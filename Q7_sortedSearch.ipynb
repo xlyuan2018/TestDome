{
 "metadata": {
  "language_info": {
   "codemirror_mode": {
    "name": "ipython",
    "version": 3
   },
   "file_extension": ".py",
   "mimetype": "text/x-python",
   "name": "python",
   "nbconvert_exporter": "python",
   "pygments_lexer": "ipython3",
   "version": "3.8.5-final"
  },
  "orig_nbformat": 2,
  "kernelspec": {
   "name": "Python 3.8.5 64-bit",
   "display_name": "Python 3.8.5 64-bit",
   "metadata": {
    "interpreter": {
     "hash": "082e9a3bcad0a290d0001e938aa60b99250c6c2ef33a923c00b70f9826caf4b7"
    }
   }
  }
 },
 "nbformat": 4,
 "nbformat_minor": 2,
 "cells": [
  {
   "source": [
    "## Sorted Search\n",
    "Implement function count_numbers that accepts a sorted list of unique integers and, efficiently with respect to time used, counts the number of list elements that are less than the parameter less_than.\n",
    "\n",
    "For example, count_numbers([1, 3, 5, 7], 4) should return 2 because there are two list elements less than 4."
   ],
   "cell_type": "markdown",
   "metadata": {}
  },
  {
   "cell_type": "code",
   "execution_count": 2,
   "metadata": {},
   "outputs": [
    {
     "output_type": "execute_result",
     "data": {
      "text/plain": "5"
     },
     "metadata": {},
     "execution_count": 2
    }
   ],
   "source": [
    "import math\n",
    "math.floor(11/2)"
   ]
  },
  {
   "cell_type": "code",
   "execution_count": 13,
   "metadata": {
    "tags": []
   },
   "outputs": [
    {
     "output_type": "stream",
     "name": "stdout",
     "text": "[1, 1, 2, 2, 3, 3, 5, 6, 7, 8, 9]\n5\n6\n"
    }
   ],
   "source": [
    "#### did not pass, 25%\n",
    "import math\n",
    "\n",
    "def count_numbers(sorted_list, less_than):\n",
    "    sorted_list = sorted(sorted_list)\n",
    "    print(sorted_list)\n",
    "    \n",
    "    half = math.floor(len(sorted_list)/2) # to save time\n",
    "    print(half)\n",
    "    if sorted_list[half] < less_than:\n",
    "        for i in range(half, len(sorted_list)-1):\n",
    "            if sorted_list[i] < less_than:\n",
    "                i +=1\n",
    "            return i\n",
    "    else:\n",
    "        for i in range(0, half):\n",
    "            if sorted_list[i] < less_than:\n",
    "                i +=1\n",
    "        return i\n",
    "\n",
    "if __name__ == \"__main__\":\n",
    "    sorted_list = [1, 2,3, 5, 8,9, 3, 6, 1, 2, 7]\n",
    "    print(count_numbers(sorted_list, 4)) "
   ]
  },
  {
   "cell_type": "code",
   "execution_count": 26,
   "metadata": {
    "tags": []
   },
   "outputs": [
    {
     "output_type": "stream",
     "name": "stdout",
     "text": "[1, 1, 2, 2, 3, 3, 5, 6, 7, 8, 9]\n4\n"
    }
   ],
   "source": [
    "# Option 2: Fast search\n",
    "\n",
    "from bisect import bisect_left\n",
    "def count_numbers(sorted_list, less_than):\n",
    "    sorted_list = sorted(sorted_list)\n",
    "    print(sorted_list)\n",
    "    \n",
    "    i = bisect_left(sorted_list, less_than)\n",
    "    return i\n",
    "        \n",
    "            \n",
    "if __name__ == \"__main__\":\n",
    "    sorted_list = [1, 2,3, 5, 8,9, 3, 6, 1, 2, 7]\n",
    "    print(count_numbers(sorted_list, 3))"
   ]
  },
  {
   "cell_type": "code",
   "execution_count": null,
   "metadata": {},
   "outputs": [],
   "source": []
  }
 ]
}