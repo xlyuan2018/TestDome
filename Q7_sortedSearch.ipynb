{
 "metadata": {
  "language_info": {
   "codemirror_mode": {
    "name": "ipython",
    "version": 3
   },
   "file_extension": ".py",
   "mimetype": "text/x-python",
   "name": "python",
   "nbconvert_exporter": "python",
   "pygments_lexer": "ipython3",
   "version": 3
  },
  "orig_nbformat": 2
 },
 "nbformat": 4,
 "nbformat_minor": 2,
 "cells": [
  {
   "source": [
    "## Sorted Search\n",
    "Implement function count_numbers that accepts a sorted list of unique integers and, efficiently with respect to time used, counts the number of list elements that are less than the parameter less_than.\n",
    "\n",
    "For example, count_numbers([1, 3, 5, 7], 4) should return 2 because there are two list elements less than 4."
   ],
   "cell_type": "markdown",
   "metadata": {}
  },
  {
   "cell_type": "code",
   "execution_count": null,
   "metadata": {},
   "outputs": [],
   "source": [
    "#### did not pass, 25%\n",
    "def count_numbers(sorted_list, less_than):\n",
    "    sorted_list = sorted(sorted_list)\n",
    "    if len(sorted_list)%2 == 0:\n",
    "    \n",
    "    half = len(sorted_list)/2\n",
    "    if sorted_list[]\n",
    "\n",
    "    for i in range(0, (len(sorted_list)-1)):\n",
    "        if sorted_list[i] < less_than:\n",
    "            i += 1 \n",
    "    return i\n",
    "\n",
    "if __name__ == \"__main__\":\n",
    "    sorted_list = [1, 3, 5, 1, 2, 7]\n",
    "    print(count_numbers(sorted_list, 4)) # should print 2"
   ]
  }
 ]
}