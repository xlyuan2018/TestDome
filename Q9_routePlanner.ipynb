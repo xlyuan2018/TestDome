{
 "metadata": {
  "language_info": {
   "codemirror_mode": {
    "name": "ipython",
    "version": 3
   },
   "file_extension": ".py",
   "mimetype": "text/x-python",
   "name": "python",
   "nbconvert_exporter": "python",
   "pygments_lexer": "ipython3",
   "version": "3.8.5-final"
  },
  "orig_nbformat": 2,
  "kernelspec": {
   "name": "Python 3.8.5 64-bit",
   "display_name": "Python 3.8.5 64-bit",
   "metadata": {
    "interpreter": {
     "hash": "082e9a3bcad0a290d0001e938aa60b99250c6c2ef33a923c00b70f9826caf4b7"
    }
   }
  }
 },
 "nbformat": 4,
 "nbformat_minor": 2,
 "cells": [
  {
   "source": [
    "## Route Planner\n",
    "As a part of the route planner, the route_exists method is used as a quick filter if the destination is reachable, before using more computationally intensive procedures for finding the optimal route.\n",
    "\n",
    "The roads on the map are rasterized and produce a matrix of boolean values - True if the road is present or False if it is not. The roads in the matrix are connected only if the road is immediately left, right, below or above it.\n",
    "\n",
    "Finish the route_exists method so that it returns True if the destination is reachable or False if it is not. The from_row and from_column parameters are the starting row and column in the map_matrix. The to_row and to_column are the destination row and column in the map_matrix. The map_matrix parameter is the above mentioned matrix produced from the map.\n",
    "\n",
    "For example, the following code should return True since destination is reachable:"
   ],
   "cell_type": "markdown",
   "metadata": {}
  },
  {
   "cell_type": "code",
   "execution_count": 1,
   "metadata": {
    "tags": []
   },
   "outputs": [
    {
     "output_type": "stream",
     "name": "stdout",
     "text": "4\nrouteExists (fr = 0, fc = 0, tr = 2, tc = 3\n[[0, 0]]\nrecursing fr+1\nrouteExists (fr = 1, fc = 0, tr = 2, tc = 3\n[[0, 0], [1, 0]]\nrecursing fc+1\nrouteExists (fr = 1, fc = 1, tr = 2, tc = 3\n[[0, 0], [1, 0], [1, 1]]\nrecursing fr+1\nrouteExists (fr = 2, fc = 1, tr = 2, tc = 3\n[[0, 0], [1, 0], [1, 1], [2, 1]]\nrecursing fr+1\nrouteExists (fr = 3, fc = 1, tr = 2, tc = 3\n[[0, 0], [1, 0], [1, 1], [2, 1], [3, 1]]\nrecursing fc+1\nrouteExists (fr = 3, fc = 2, tr = 2, tc = 3\n[[0, 0], [1, 0], [1, 1], [2, 1], [3, 1], [3, 2]]\nrecursing fc+1\nrouteExists (fr = 3, fc = 3, tr = 2, tc = 3\n[[0, 0], [1, 0], [1, 1], [2, 1], [3, 1], [3, 2], [3, 3]]\nrecursing fr-1\nrouteExists (fr = 2, fc = 3, tr = 2, tc = 3\n[[0, 0], [1, 0], [1, 1], [2, 1], [3, 1], [3, 2], [3, 3], [2, 3]]\nTrue\n"
    }
   ],
   "source": [
    "#### did not pass! 25%\n",
    "visitPlaces = list()\n",
    "\n",
    "def routeExists(fr, fc, tr, tc, map):\n",
    "    result = False\n",
    "\n",
    "    debugLine = \"routeExists (fr = %s, fc = %s, tr = %s, tc = %s\" % (fr, fc, tr, tc)\n",
    "    print(debugLine)\n",
    "\n",
    "    visitPlaces.append([fr, fc])\n",
    "    print (visitPlaces)\n",
    "    # check if it reaches destination\n",
    "    if (fr == tr) and (fc == tc):\n",
    "        result = True\n",
    "    \n",
    "    else:\n",
    "        if ( (not result) and (fr + 1 < len(map)) and ([fr+1, fc] not in visitPlaces) and map[fr+1][fc]):\n",
    "            print('recursing fr+1')\n",
    "            result = routeExists(fr+1, fc, tr, tc, map)\n",
    "\n",
    "        if ( (not result) and (fc + 1 < len(map)) and ([fr, fc+1] not in visitPlaces) and map[fr][fc+1]):\n",
    "            print('recursing fc+1')\n",
    "            result = routeExists(fr, fc+1, tr, tc, map)\n",
    "    \n",
    "        if ( (not result) and (fr - 1 >= 0) and ([fr-1, fc] not in visitPlaces) and map[fr-1][fc]):\n",
    "            print('recursing fr-1')\n",
    "            result = routeExists(fr-1, fc, tr, tc, map)\n",
    "\n",
    "        if ( (not result) and (fc - 1 >= 0) and ([fr, fc-1] not in visitPlaces) and map[fr][fc-1]):\n",
    "            print('recursing fc-1')\n",
    "            result = routeExists(fr, fc-1, tr, tc, map)\n",
    "\n",
    "    return result \n",
    "\n",
    "if __name__ == '__main__':\n",
    "    routeMap = [  \n",
    "        [True, False, False, True],\n",
    "        [True, True, False, True], \n",
    "        [False, True, True, True],\n",
    "        [False, True, True, True]\n",
    "    ];\n",
    "    print(len(routeMap))\n",
    "    print(routeExists(0, 0, 2, 3, routeMap))"
   ]
  },
  {
   "cell_type": "code",
   "execution_count": null,
   "metadata": {},
   "outputs": [],
   "source": []
  }
 ]
}