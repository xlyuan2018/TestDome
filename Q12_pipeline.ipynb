{
 "metadata": {
  "language_info": {
   "codemirror_mode": {
    "name": "ipython",
    "version": 3
   },
   "file_extension": ".py",
   "mimetype": "text/x-python",
   "name": "python",
   "nbconvert_exporter": "python",
   "pygments_lexer": "ipython3",
   "version": 3
  },
  "orig_nbformat": 2
 },
 "nbformat": 4,
 "nbformat_minor": 2,
 "cells": [
  {
   "source": [
    "## Pipeline\n",
    "As part of a data processing pipeline, complete the implementation of the pipeline method:\n",
    "\n",
    "    The method should accept a variable number of functions, and it should return a new function that accepts one parameter arg.\n",
    "    - The returned function should call the first function in the pipeline with the parameter arg, and call the second function with the result of the first function.\n",
    "    - The returned function should continue calling each function in the pipeline in order, following the same pattern, and return the value from the last function.\n",
    "    \n",
    "For example, pipeline(lambda x: x * 3, lambda x: x + 1, lambda x: x / 2) then calling the returned function with 3 should return 5.0."
   ],
   "cell_type": "markdown",
   "metadata": {}
  },
  {
   "cell_type": "code",
   "execution_count": null,
   "metadata": {},
   "outputs": [],
   "source": [
    "def pipeline(*funcs): # a number of arguments unknown\n",
    "    def helper(arg):\n",
    "        for f in funcs:\n",
    "            result = f(arg)\n",
    "            arg = result\n",
    "        return arg\n",
    "      \n",
    "    return helper\n",
    "        \n",
    "fun = pipeline(lambda x: x * 3, lambda x: x + 1, lambda x: x / 2)\n",
    "print(fun(3)) #should print 5.0"
   ]
  }
 ]
}