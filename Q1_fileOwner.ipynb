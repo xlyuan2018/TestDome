{
 "metadata": {
  "language_info": {
   "codemirror_mode": {
    "name": "ipython",
    "version": 3
   },
   "file_extension": ".py",
   "mimetype": "text/x-python",
   "name": "python",
   "nbconvert_exporter": "python",
   "pygments_lexer": "ipython3",
   "version": "3.8.5-final"
  },
  "orig_nbformat": 2,
  "kernelspec": {
   "name": "Python 3.8.5 64-bit",
   "display_name": "Python 3.8.5 64-bit",
   "metadata": {
    "interpreter": {
     "hash": "082e9a3bcad0a290d0001e938aa60b99250c6c2ef33a923c00b70f9826caf4b7"
    }
   }
  }
 },
 "nbformat": 4,
 "nbformat_minor": 2,
 "cells": [
  {
   "source": [
    "## Q1: File Owners\n",
    "### Implement a group_by_owners function that:\n",
    "\n",
    "    - Accepts a dictionary containing the file owner name for each file name.\n",
    "    - Returns a dictionary containing a list of file names for each owner name, in any order.\n",
    "For example, for dictionary {'Input.txt': 'Randy', 'Code.py': 'Stan', 'Output.txt': 'Randy'} the group_by_owners function should return {'Randy': ['Input.txt', 'Output.txt'], 'Stan': ['Code.py']}."
   ],
   "cell_type": "markdown",
   "metadata": {}
  },
  {
   "cell_type": "code",
   "execution_count": 1,
   "metadata": {
    "tags": []
   },
   "outputs": [
    {
     "output_type": "stream",
     "name": "stdout",
     "text": "{'Randy': ['Input.txt', 'Output.txt'], 'Stan': ['Code.py'], 'Jason': ['print.py']}\n"
    }
   ],
   "source": [
    "def group_by_owners(files):\n",
    "    newfile = {}\n",
    "    for key, value in files.items():\n",
    "        # switch keys and values in newfile dictionary\n",
    "        if value not in newfile.keys():\n",
    "            newfile[value] = [key]\n",
    "        else:\n",
    "            newfile[value] = newfile[value] + [key]\n",
    "    return newfile\n",
    "\n",
    "if __name__ == \"__main__\":  # only work if we run the script locally, not by sourcing\n",
    "    files = {\n",
    "        'Input.txt': 'Randy',\n",
    "        'Code.py': 'Stan',\n",
    "        'Output.txt': 'Randy',\n",
    "        'print.py': 'Jason'\n",
    "    }  \n",
    "\n",
    "print(group_by_owners(files))"
   ]
  },
  {
   "cell_type": "code",
   "execution_count": null,
   "metadata": {},
   "outputs": [],
   "source": []
  }
 ]
}