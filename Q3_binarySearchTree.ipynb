{
 "metadata": {
  "language_info": {
   "codemirror_mode": {
    "name": "ipython",
    "version": 3
   },
   "file_extension": ".py",
   "mimetype": "text/x-python",
   "name": "python",
   "nbconvert_exporter": "python",
   "pygments_lexer": "ipython3",
   "version": "3.8.5-final"
  },
  "orig_nbformat": 2,
  "kernelspec": {
   "name": "Python 3.8.5 64-bit",
   "display_name": "Python 3.8.5 64-bit",
   "metadata": {
    "interpreter": {
     "hash": "082e9a3bcad0a290d0001e938aa60b99250c6c2ef33a923c00b70f9826caf4b7"
    }
   }
  }
 },
 "nbformat": 4,
 "nbformat_minor": 2,
 "cells": [
  {
   "source": [
    "## Binary search tree\n",
    "Binary search tree (BST) is a binary tree where the value of each node is larger or equal to the values in all the nodes in that node's left subtree and is smaller than the values in all the nodes in that node's right subtree.\n",
    "\n",
    "Write a function that, efficiently with respect to time used, checks if a given binary search tree contains a given value.\n",
    "\n",
    "For example, for the following tree:\n",
    "\n",
    "n1 (Value: 1, Left: null, Right: null)\n",
    "n2 (Value: 2, Left: n1, Right: n3)\n",
    "n3 (Value: 3, Left: null, Right: null)\n",
    "Call to contains(n2, 3) should return True since a tree with root at n2 contains number 3."
   ],
   "cell_type": "markdown",
   "metadata": {}
  },
  {
   "cell_type": "code",
   "execution_count": 82,
   "metadata": {
    "tags": []
   },
   "outputs": [
    {
     "output_type": "stream",
     "name": "stdout",
     "text": "True\n"
    }
   ],
   "source": [
    "import collections\n",
    "\n",
    "Node = collections.namedtuple('Node', ['left', 'right', 'value'])\n",
    "\n",
    "def contains(root, value):   \n",
    "    if root.value == value:\n",
    "        return True\n",
    "\n",
    "    while value < root.value:\n",
    "        if root.left == None:\n",
    "            return False\n",
    "        else:\n",
    "            root = root.left        # recursion\n",
    "            return contains(root, value)\n",
    "    while value > root.value:\n",
    "        if root.right == None:\n",
    "            return False\n",
    "        else:\n",
    "            root = root.right\n",
    "            return contains(root, value)\n",
    "\n",
    "n7 = Node(value=50, left=None, right=None)   \n",
    "n2 = Node(value=25, left=None, right=None)\n",
    "n5 = Node(value=4, left=None, right=None) \n",
    "n1 = Node(value=21, left=n5, right=n2)   \n",
    "n4 = Node(value=35, left=None, right=n7)    \n",
    "n0 = Node(value=30, left=n1, right=n4)\n",
    "\n",
    "# n1 = Node(value=1, left=None, right=None)\n",
    "# n3 = Node(value=3, left=None, right=None)\n",
    "# n2 = Node(value=2, left=n1, right=n3)  \n"
   ]
  },
  {
   "cell_type": "code",
   "execution_count": 91,
   "metadata": {
    "tags": []
   },
   "outputs": [
    {
     "output_type": "stream",
     "name": "stdout",
     "text": "True\n"
    }
   ],
   "source": [
    "print(contains(n1, 4))"
   ]
  }
 ]
}