{
 "metadata": {
  "language_info": {
   "codemirror_mode": {
    "name": "ipython",
    "version": 3
   },
   "file_extension": ".py",
   "mimetype": "text/x-python",
   "name": "python",
   "nbconvert_exporter": "python",
   "pygments_lexer": "ipython3",
   "version": "3.8.5-final"
  },
  "orig_nbformat": 2,
  "kernelspec": {
   "name": "Python 3.8.5 64-bit",
   "display_name": "Python 3.8.5 64-bit",
   "metadata": {
    "interpreter": {
     "hash": "082e9a3bcad0a290d0001e938aa60b99250c6c2ef33a923c00b70f9826caf4b7"
    }
   }
  }
 },
 "nbformat": 4,
 "nbformat_minor": 2,
 "cells": [
  {
   "source": [
    "## Q2: Quadratic Equation\n",
    "### Implement the function find_roots to find the roots of the quadratic equation: ax2 + bx + c = 0.  \n",
    "\n",
    "    - The function should return a tuple containing roots in any order. If the equation has only one solution, \n",
    "    - the function should return that solution as both elements of the tuple. The equation will always have at least one solution.\n",
    "\n",
    "The roots of the quadratic equation can be found with the following formula: A quadratic equation.\n",
    "\n",
    "For example, find_roots(2, 10, 8) should return (-1, -4) or (-4, -1) as the roots of the equation 2x2 + 10x + 8 = 0 are -1 and -4."
   ],
   "cell_type": "markdown",
   "metadata": {}
  },
  {
   "cell_type": "code",
   "execution_count": 1,
   "metadata": {
    "tags": []
   },
   "outputs": [
    {
     "output_type": "stream",
     "name": "stdout",
     "text": "(-1.0, -4.0)\n"
    }
   ],
   "source": [
    "import math\n",
    "\n",
    "def find_roots(a, b, c):\n",
    "    \n",
    "    x = b **2 - 4*a*c\n",
    "    x = math.sqrt(x)\n",
    "    x1 = (-b + x)/(2*a)\n",
    "    x2 = (-b - x)/(2*a)\n",
    "    return x1, x2\n",
    "\n",
    "print(find_roots(2, 10, 8));"
   ]
  },
  {
   "cell_type": "code",
   "execution_count": null,
   "metadata": {},
   "outputs": [],
   "source": []
  }
 ]
}