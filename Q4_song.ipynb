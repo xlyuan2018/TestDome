{
 "metadata": {
  "language_info": {
   "codemirror_mode": {
    "name": "ipython",
    "version": 3
   },
   "file_extension": ".py",
   "mimetype": "text/x-python",
   "name": "python",
   "nbconvert_exporter": "python",
   "pygments_lexer": "ipython3",
   "version": "3.8.5-final"
  },
  "orig_nbformat": 2,
  "kernelspec": {
   "name": "Python 3.8.5 64-bit",
   "display_name": "Python 3.8.5 64-bit",
   "metadata": {
    "interpreter": {
     "hash": "082e9a3bcad0a290d0001e938aa60b99250c6c2ef33a923c00b70f9826caf4b7"
    }
   }
  }
 },
 "nbformat": 4,
 "nbformat_minor": 2,
 "cells": [
  {
   "source": [
    "## Song\n",
    "A playlist is considered a repeating playlist if any of the songs contain a reference to a previous song in the playlist. Otherwise, the playlist will end with the last song which points to None.\n",
    "\n",
    "Implement a function is_repeating_playlist that, efficiently with respect to time used, returns true if a playlist is repeating or false if it is not.\n",
    "\n",
    "For example, the following code prints \"True\" as both songs point to each other."
   ],
   "cell_type": "markdown",
   "metadata": {}
  },
  {
   "cell_type": "code",
   "execution_count": null,
   "metadata": {},
   "outputs": [],
   "source": [
    "class Song:\n",
    "    def __init__(self, name):\n",
    "        self.name = name\n",
    "        self.next = None\n",
    "\n",
    "    def next_song(self, song):\n",
    "        self.next = song \n",
    "\n",
    "    @staticmethod   \n",
    "    def is_repeating_playlist(songX):\n",
    "        \"\"\"\n",
    "        :returns: (bool) True if the playlist is repeating, False if not.\n",
    "        \"\"\"\n",
    "        songs_in_playlist = set()\n",
    "        current_song = songX\n",
    "        while(current_song):\n",
    "            if current_song.name in songs_in_playlist:\n",
    "                return True\n",
    "            songs_in_playlist.add(current_song.name)\n",
    "            current_song = current_song.next\n",
    "        return False\n",
    "            \n",
    "first = Song(\"By the river of Babylon\")\n",
    "second = Song(\"Casablanca\")\n",
    "third = Song(\"Yesterday once more\")\n",
    "\n",
    "first.next_song(second);\n",
    "second.next_song(third);\n",
    "third.next_song(first)\n",
    "    \n",
    "print(third.is_repeating_playlist(first))"
   ]
  }
 ]
}