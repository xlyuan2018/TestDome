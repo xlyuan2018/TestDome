{
 "metadata": {
  "language_info": {
   "codemirror_mode": {
    "name": "ipython",
    "version": 3
   },
   "file_extension": ".py",
   "mimetype": "text/x-python",
   "name": "python",
   "nbconvert_exporter": "python",
   "pygments_lexer": "ipython3",
   "version": "3.8.5-final"
  },
  "orig_nbformat": 2,
  "kernelspec": {
   "name": "Python 3.8.5 64-bit",
   "display_name": "Python 3.8.5 64-bit",
   "metadata": {
    "interpreter": {
     "hash": "082e9a3bcad0a290d0001e938aa60b99250c6c2ef33a923c00b70f9826caf4b7"
    }
   }
  }
 },
 "nbformat": 4,
 "nbformat_minor": 2,
 "cells": [
  {
   "source": [
    "## Train Composition\n",
    "A TrainComposition is built by attaching and detaching wagons from the left and the right sides, efficiently with respect to time used.\n",
    "\n",
    "For example, if we start by attaching wagon 7 from the left followed by attaching wagon 13, again from the left, we get a composition of two wagons (13 and 7 from left to right). Now the first wagon that can be detached from the right is 7 and the first that can be detached from the left is 13.\n",
    "\n",
    "Implement a TrainComposition that models this problem."
   ],
   "cell_type": "markdown",
   "metadata": {}
  },
  {
   "cell_type": "code",
   "execution_count": 2,
   "metadata": {
    "tags": []
   },
   "outputs": [
    {
     "output_type": "stream",
     "name": "stdout",
     "text": "1_ deque([7])\n1_ deque([13, 7])\n2_ deque([13, 7, 4])\n4\n13\n"
    }
   ],
   "source": [
    "from collections import deque\n",
    "mywagon = deque()\n",
    "\n",
    "class TrainComposition:\n",
    "\n",
    "    def __init__(self):\n",
    "        pass   \n",
    "\n",
    "    def attach_wagon_from_left(self, wagonId):\n",
    "        mywagon.appendleft(wagonId) \n",
    "        print('1_',mywagon)\n",
    "\n",
    "    def attach_wagon_from_right(self, wagonId):\n",
    "        mywagon.append(wagonId)\n",
    "        print('2_', mywagon)\n",
    "\n",
    "    def detach_wagon_from_left(self):\n",
    "        value=mywagon[0]\n",
    "        mywagon.popleft()\n",
    "        return value \n",
    "\n",
    "    def detach_wagon_from_right(self):\n",
    "        value=mywagon[-1]\n",
    "        mywagon.pop()\n",
    "        return value \n",
    "\n",
    "if __name__ == \"__main__\":\n",
    "    train = TrainComposition()\n",
    "    train.attach_wagon_from_left(7)\n",
    "    train.attach_wagon_from_left(13)\n",
    "    train.attach_wagon_from_right (4)\n",
    "    print(train.detach_wagon_from_right()) \n",
    "    print(train.detach_wagon_from_left()) \n",
    "    "
   ]
  },
  {
   "cell_type": "code",
   "execution_count": null,
   "metadata": {},
   "outputs": [],
   "source": []
  }
 ]
}