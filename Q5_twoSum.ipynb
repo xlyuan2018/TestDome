{
 "metadata": {
  "language_info": {
   "codemirror_mode": {
    "name": "ipython",
    "version": 3
   },
   "file_extension": ".py",
   "mimetype": "text/x-python",
   "name": "python",
   "nbconvert_exporter": "python",
   "pygments_lexer": "ipython3",
   "version": "3.8.5-final"
  },
  "orig_nbformat": 2,
  "kernelspec": {
   "name": "Python 3.8.5 64-bit",
   "display_name": "Python 3.8.5 64-bit",
   "metadata": {
    "interpreter": {
     "hash": "082e9a3bcad0a290d0001e938aa60b99250c6c2ef33a923c00b70f9826caf4b7"
    }
   }
  }
 },
 "nbformat": 4,
 "nbformat_minor": 2,
 "cells": [
  {
   "source": [
    "## Two Sum\n",
    "Write a function that, when passed a list and a target sum, returns, efficiently with respect to time used, two distinct zero-based indices of any two of the numbers, whose sum is equal to the target sum. If there are no two numbers, the function should return None.\n",
    "\n",
    "For example, find_two_sum([3, 1, 5, 7, 5, 9], 10) should return a single tuple containing any of the following pairs of indices:\n",
    "\n",
    "0 and 3 (or 3 and 0) as 3 + 7 = 10\n",
    "1 and 5 (or 5 and 1) as 1 + 9 = 10\n",
    "2 and 4 (or 4 and 2) as 5 + 5 = 10"
   ],
   "cell_type": "markdown",
   "metadata": {}
  },
  {
   "cell_type": "code",
   "execution_count": 1,
   "metadata": {
    "tags": []
   },
   "outputs": [
    {
     "output_type": "stream",
     "name": "stdout",
     "text": "0 8\n1 3\n2 1\n3 5\n4 7\n(4, 1)\n"
    }
   ],
   "source": [
    "def find_two_sum(numbers, target_sum):\n",
    "    \"\"\"\n",
    "    :param numbers: (list of ints) The list of numbers.\n",
    "    :param target_sum: (int) The required target sum.\n",
    "    :returns: (a tuple of 2 ints) The indices of the two elements whose sum is equal to target_sum\n",
    "    \"\"\"\n",
    "    storage = {}\n",
    "    for index, value in enumerate(numbers):\n",
    "        print(index, value)\n",
    "        diff = target_sum - value\n",
    "        # print('1_diff:', diff)\n",
    "        # print('2_storage:', storage)\n",
    "        if diff in storage:\n",
    "            # print('3_storage[diff]:', storage[diff])\n",
    "            return index, storage[diff]\n",
    "        storage[value] = index\n",
    "        # print('4_storage:', storage)\n",
    "\n",
    "if __name__ == \"__main__\":\n",
    "    print(find_two_sum([8, 3, 1, 5, 7, 5, 9], 10))"
   ]
  },
  {
   "cell_type": "code",
   "execution_count": null,
   "metadata": {},
   "outputs": [],
   "source": []
  }
 ]
}