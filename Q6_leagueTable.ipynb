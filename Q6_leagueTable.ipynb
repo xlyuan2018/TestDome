{
 "metadata": {
  "language_info": {
   "codemirror_mode": {
    "name": "ipython",
    "version": 3
   },
   "file_extension": ".py",
   "mimetype": "text/x-python",
   "name": "python",
   "nbconvert_exporter": "python",
   "pygments_lexer": "ipython3",
   "version": "3.8.5-final"
  },
  "orig_nbformat": 2,
  "kernelspec": {
   "name": "Python 3.8.5 64-bit",
   "display_name": "Python 3.8.5 64-bit",
   "metadata": {
    "interpreter": {
     "hash": "082e9a3bcad0a290d0001e938aa60b99250c6c2ef33a923c00b70f9826caf4b7"
    }
   }
  }
 },
 "nbformat": 4,
 "nbformat_minor": 2,
 "cells": [
  {
   "source": [
    "## League Table\n",
    "The LeagueTable class tracks the score of each player in a league. After each game, the player records their score with the record_result function. \n",
    "\n",
    "The player's rank in the league is calculated using the following logic:\n",
    "\n",
    "The player with the highest score is ranked first (rank 1). The player with the lowest score is ranked last.\n",
    "If two players are tied on score, then the player who has played the fewest games is ranked higher.\n",
    "If two players are tied on score and number of games played, then the player who was first in the list of players is ranked higher.\n",
    "Implement the player_rank function that returns the player at the given rank.\n",
    "\n",
    "For example:\n",
    "\n",
    "table = LeagueTable(['Mike', 'Chris', 'Arnold'])\n",
    "table.record_result('Mike', 2)\n",
    "table.record_result('Mike', 3)\n",
    "table.record_result('Arnold', 5)\n",
    "table.record_result('Chris', 5)\n",
    "print(table.player_rank(1))\n",
    "All players have the same score. However, Arnold and Chris have played fewer games than Mike, and as Chris is before Arnold in the list of players, he is ranked first. Therefore, the code above should display \"Chris\"."
   ],
   "cell_type": "markdown",
   "metadata": {}
  },
  {
   "cell_type": "code",
   "execution_count": 1,
   "metadata": {
    "tags": []
   },
   "outputs": [
    {
     "output_type": "stream",
     "name": "stdout",
     "text": "['Jason', 'Chris', 'Arnold', 'Mike']\nJason\n"
    }
   ],
   "source": [
    "from collections import Counter\n",
    "from collections import OrderedDict\n",
    "\n",
    "class LeagueTable:\n",
    "    def __init__(self, players):\n",
    "        self.standings = OrderedDict([(player, Counter()) for player in players])\n",
    "        # print('1_', self.standings)\n",
    "        # print('11_', type(self.standings))\n",
    "       \n",
    "    def record_result(self, player, score):\n",
    "        self.standings[player]['games_played'] += 1\n",
    "        self.standings[player]['score'] += score\n",
    "        # print('2_', self.standings)\n",
    "      \n",
    "    def player_rank(self, rank):\n",
    "        # print('3_', self.standings)\n",
    "        ranking = sorted(self.standings, key=lambda p: (\n",
    "        -self.standings[p]['score'], \n",
    "        self.standings[p]['games_played'], \n",
    "        self.standings[p]['pos'])\n",
    "    )\n",
    "        print(ranking)\n",
    "        return ranking[rank-1]\n",
    "\n",
    "if __name__ == \"__main__\":\n",
    "    table = LeagueTable(['Mike', 'Chris', 'Arnold', 'Jason'])\n",
    "    table.record_result('Mike', 2)\n",
    "    table.record_result('Mike', 3)\n",
    "    table.record_result('Arnold', 5)\n",
    "    table.record_result('Chris', 5)\n",
    "    table.record_result('Jason', 2)\n",
    "    table.record_result('Jason', 4)\n",
    "    print(table.player_rank(1))"
   ]
  },
  {
   "cell_type": "code",
   "execution_count": null,
   "metadata": {},
   "outputs": [],
   "source": []
  }
 ]
}